{
 "cells": [
  {
   "cell_type": "code",
   "execution_count": null,
   "metadata": {},
   "outputs": [],
   "source": [
    "from deep_translator import GoogleTranslator\n",
    "import pandas as pd\n",
    "import pyLDAvis.gensim_models\n",
    "\n",
    "from nltk.corpus import stopwords\n",
    "from nltk.tokenize import word_tokenize\n",
    "import string\n",
    "from tqdm.notebook import tqdm\n",
    "import html"
   ]
  },
  {
   "cell_type": "code",
   "execution_count": null,
   "metadata": {},
   "outputs": [],
   "source": [
    "import nltk\n",
    "\n",
    "nltk.download(\"punkt\")"
   ]
  },
  {
   "cell_type": "code",
   "execution_count": null,
   "metadata": {},
   "outputs": [],
   "source": [
    "mastodon_data = pd.read_feather(\n",
    "    \"../1_data_collection/data/8_account_general_data.feather\"\n",
    ")\n",
    "docs = mastodon_data[\"account_descri\"]"
   ]
  },
  {
   "cell_type": "code",
   "execution_count": null,
   "metadata": {},
   "outputs": [],
   "source": [
    "translator = GoogleTranslator(source=\"auto\", target=\"en\")"
   ]
  },
  {
   "cell_type": "code",
   "execution_count": null,
   "metadata": {},
   "outputs": [],
   "source": [
    "for i, row in tqdm(mastodon_data.iterrows(), total=len(mastodon_data)):\n",
    "    mastodon_data.loc[i, \"trl_account_descri\"] = translator.translate(\n",
    "        row[\"account_descri\"]\n",
    "    )"
   ]
  },
  {
   "cell_type": "code",
   "execution_count": null,
   "metadata": {},
   "outputs": [],
   "source": [
    "mastodon_data.loc[mastodon_data[\"language_type\"] != \"English\", \"trl_account_descri\"]"
   ]
  },
  {
   "cell_type": "code",
   "execution_count": null,
   "metadata": {},
   "outputs": [],
   "source": [
    "mastodon_data[\"trl_account_descri\"] = mastodon_data[\"trl_account_descri\"].apply(\n",
    "    lambda x: html.unescape(x) if x is not None else x\n",
    ")"
   ]
  },
  {
   "cell_type": "code",
   "execution_count": null,
   "metadata": {},
   "outputs": [],
   "source": [
    "mastodon_data.to_feather(\"./data/2_account_descri_translated.feather\")"
   ]
  },
  {
   "cell_type": "code",
   "execution_count": null,
   "metadata": {},
   "outputs": [],
   "source": [
    "mastodon_data = pd.read_feather(\"./data/2_account_descri_translated.feather\")"
   ]
  },
  {
   "cell_type": "code",
   "execution_count": null,
   "metadata": {},
   "outputs": [],
   "source": [
    "mastodon_data_w_acct_desc = mastodon_data[~mastodon_data[\"trl_account_descri\"].isna()]"
   ]
  },
  {
   "cell_type": "code",
   "execution_count": null,
   "metadata": {},
   "outputs": [],
   "source": [
    "from gensim import corpora\n",
    "\n",
    "\n",
    "from gensim.models import LdaModel\n",
    "from nltk.corpus import stopwords\n",
    "from nltk.tokenize import word_tokenize\n",
    "import string\n",
    "\n",
    "# Sample documents\n",
    "documents = mastodon_data_w_acct_desc[\"trl_account_descri\"]\n",
    "\n",
    "# Tokenize and preprocess the documents\n",
    "stop_words = set(stopwords.words(\"english\"))\n",
    "documents = [word_tokenize(doc.lower()) for doc in documents]\n",
    "documents = [\n",
    "    [word for word in doc if word.isalnum() and word not in stop_words]\n",
    "    for doc in documents\n",
    "]\n",
    "\n",
    "# Create a dictionary representation of the documents\n",
    "dictionary = corpora.Dictionary(documents)\n",
    "\n",
    "# Create a bag-of-words corpus\n",
    "corpus = [dictionary.doc2bow(doc) for doc in documents]\n",
    "\n",
    "# Train the LDA model\n",
    "lda_model = LdaModel(corpus, num_topics=4, id2word=dictionary, passes=15)\n",
    "\n",
    "# Print the topics and their top words\n",
    "topics = lda_model.print_topics(num_words=10)\n",
    "for topic in topics:\n",
    "    print(topic)"
   ]
  },
  {
   "cell_type": "code",
   "execution_count": null,
   "metadata": {},
   "outputs": [],
   "source": [
    "vis = pyLDAvis.gensim_models.prepare(lda_model, corpus, dictionary)\n",
    "pyLDAvis.display(vis)"
   ]
  },
  {
   "cell_type": "code",
   "execution_count": null,
   "metadata": {},
   "outputs": [],
   "source": [
    "pyLDAvis.save_html(vis, \"./data/acct_descr_topic.html\")"
   ]
  },
  {
   "cell_type": "code",
   "execution_count": null,
   "metadata": {},
   "outputs": [],
   "source": [
    "from wordcloud import WordCloud\n",
    "import matplotlib.pyplot as plt\n",
    "\n",
    "fuLL_acct_str = \" \".join([\" \".join(doc) for doc in documents])\n",
    "\n",
    "wc = WordCloud(\n",
    "    width=400, height=400, background_color=\"white\", repeat=True, max_words=35\n",
    ")\n",
    "wc.generate(fuLL_acct_str)\n",
    "\n",
    "fig, ax = plt.subplots(figsize=(5, 5))\n",
    "plt.axis(\"off\")\n",
    "ax.imshow(wc, interpolation=\"bilinear\")\n",
    "plt.show()"
   ]
  },
  {
   "cell_type": "code",
   "execution_count": null,
   "metadata": {},
   "outputs": [],
   "source": [
    "import pprint\n",
    "\n",
    "pprint.pprint(topics)"
   ]
  },
  {
   "cell_type": "code",
   "execution_count": null,
   "metadata": {},
   "outputs": [],
   "source": [
    "acct_desc_topics = []\n",
    "for doc in documents:\n",
    "    acct_doc_bow = dictionary.doc2bow(doc)\n",
    "    predicted_topic_probs = lda_model.get_document_topics(acct_doc_bow)\n",
    "\n",
    "    acct_topic = None\n",
    "    max_prob = 0\n",
    "    for topic_prob in predicted_topic_probs:\n",
    "        check_topic = topic_prob[0]\n",
    "        check_prob = topic_prob[1]\n",
    "        if check_prob > max_prob:\n",
    "            max_prob = check_prob\n",
    "            acct_topic = check_topic\n",
    "    acct_desc_topics.append(acct_topic)\n",
    "\n",
    "mastodon_data_w_acct_desc[\"acct_descri_topic\"] = acct_desc_topics"
   ]
  },
  {
   "cell_type": "code",
   "execution_count": null,
   "metadata": {},
   "outputs": [],
   "source": [
    "final_mastodon_data = pd.concat(\n",
    "    [\n",
    "        mastodon_data_w_acct_desc,\n",
    "        mastodon_data[mastodon_data[\"trl_account_descri\"].isna()],\n",
    "    ]\n",
    ").reset_index(drop=True)"
   ]
  },
  {
   "cell_type": "code",
   "execution_count": null,
   "metadata": {},
   "outputs": [],
   "source": [
    "final_mastodon_data.to_feather(\"./data/3_acct_descr_topics.feather\")"
   ]
  }
 ],
 "metadata": {
  "kernelspec": {
   "display_name": "thesis",
   "language": "python",
   "name": "python3"
  },
  "language_info": {
   "codemirror_mode": {
    "name": "ipython",
    "version": 3
   },
   "file_extension": ".py",
   "mimetype": "text/x-python",
   "name": "python",
   "nbconvert_exporter": "python",
   "pygments_lexer": "ipython3",
   "version": "3.11.4"
  }
 },
 "nbformat": 4,
 "nbformat_minor": 2
}
