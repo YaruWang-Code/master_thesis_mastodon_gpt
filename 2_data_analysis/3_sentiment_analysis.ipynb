{
 "cells": [
  {
   "cell_type": "markdown",
   "metadata": {},
   "source": [
    "# Sentiment analysis"
   ]
  },
  {
   "cell_type": "code",
   "execution_count": null,
   "metadata": {},
   "outputs": [],
   "source": [
    "import pandas as pd\n",
    "import html\n",
    "from transformers import pipeline\n",
    "from tqdm.notebook import tqdm\n",
    "import matplotlib\n",
    "import matplotlib.pyplot as plt"
   ]
  },
  {
   "cell_type": "code",
   "execution_count": null,
   "metadata": {},
   "outputs": [],
   "source": [
    "mastodon_data = pd.read_feather(\n",
    "    \"../1_data_collection/data/8_mastodon_final_data.feather\"\n",
    ")"
   ]
  },
  {
   "cell_type": "code",
   "execution_count": null,
   "metadata": {},
   "outputs": [],
   "source": [
    "mastodon_data[\"text_combine\"] = mastodon_data[\"text_combine\"].apply(\n",
    "    lambda x: html.unescape(x)\n",
    ")"
   ]
  },
  {
   "cell_type": "markdown",
   "metadata": {},
   "source": [
    "## Run RoBERTA sentiment pipeline"
   ]
  },
  {
   "cell_type": "code",
   "execution_count": null,
   "metadata": {},
   "outputs": [],
   "source": [
    "sentiment_pipeline = pipeline(\n",
    "    task=\"sentiment-analysis\",\n",
    "    model=\"cardiffnlp/twitter-roberta-base-sentiment\",\n",
    "    max_length=512,\n",
    "    truncation=True,\n",
    "    top_k=None,\n",
    ")\n",
    "label_map = {\"LABEL_0\": \"Negative\", \"LABEL_1\": \"Neutral\", \"LABEL_2\": \"Positive\"}"
   ]
  },
  {
   "cell_type": "code",
   "execution_count": null,
   "metadata": {},
   "outputs": [],
   "source": [
    "sentiment_results_list = []\n",
    "for index, row in tqdm(mastodon_data.iterrows(), total=len(mastodon_data)):\n",
    "    text = row[\"text_combine\"]\n",
    "    post_id = row[\"id\"]\n",
    "    detect_lang = row[\"gl_detect_lang\"]\n",
    "\n",
    "    sentiment_results = sentiment_pipeline(text)[0]\n",
    "    sentiment_results = {\n",
    "        label_map[res_dict[\"label\"]]: [res_dict[\"score\"]]\n",
    "        for res_dict in sentiment_results\n",
    "    }\n",
    "    sentiment_results = pd.DataFrame(sentiment_results)\n",
    "    sentiment_results[\"post_id\"] = post_id\n",
    "    sentiment_results[\"gl_detect_lang\"] = detect_lang\n",
    "    sentiment_results_list.append(sentiment_results)\n",
    "sentiment_results = pd.concat(sentiment_results_list)"
   ]
  },
  {
   "cell_type": "code",
   "execution_count": null,
   "metadata": {},
   "outputs": [],
   "source": [
    "sentiment_results[\"sum_sentiment\"] = (\n",
    "    sentiment_results[\"Positive\"] - sentiment_results[\"Negative\"]\n",
    ")"
   ]
  },
  {
   "cell_type": "code",
   "execution_count": null,
   "metadata": {},
   "outputs": [],
   "source": [
    "sentiment_results[\"sentiment_class\"] = sentiment_results[\n",
    "    [\"Negative\", \"Neutral\", \"Positive\"]\n",
    "].idxmax(axis=1)"
   ]
  },
  {
   "cell_type": "code",
   "execution_count": null,
   "metadata": {},
   "outputs": [],
   "source": [
    "sentiment_results.to_csv(\"./data/1_sentiment_results.csv\", index=False)"
   ]
  }
 ],
 "metadata": {
  "kernelspec": {
   "display_name": "thesis",
   "language": "python",
   "name": "python3"
  },
  "language_info": {
   "codemirror_mode": {
    "name": "ipython",
    "version": 3
   },
   "file_extension": ".py",
   "mimetype": "text/x-python",
   "name": "python",
   "nbconvert_exporter": "python",
   "pygments_lexer": "ipython3",
   "version": "3.11.4"
  }
 },
 "nbformat": 4,
 "nbformat_minor": 2
}
