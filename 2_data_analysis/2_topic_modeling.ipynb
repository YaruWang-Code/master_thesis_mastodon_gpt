{
 "cells": [
  {
   "cell_type": "markdown",
   "metadata": {},
   "source": [
    "# Import packages and data"
   ]
  },
  {
   "cell_type": "code",
   "execution_count": null,
   "metadata": {},
   "outputs": [],
   "source": [
    "import numpy as np\n",
    "import pandas as pd\n",
    "from bertopic import BERTopic\n",
    "from bertopic.vectorizers import ClassTfidfTransformer\n",
    "from bertopic.representation import KeyBERTInspired\n",
    "from sklearn.feature_extraction.text import CountVectorizer\n",
    "from umap import UMAP\n",
    "from sentence_transformers import SentenceTransformer\n",
    "import html\n",
    "import datetime\n",
    "import re\n",
    "import seaborn as sns\n",
    "\n",
    "import matplotlib\n",
    "import matplotlib.pyplot as plt"
   ]
  },
  {
   "cell_type": "code",
   "execution_count": null,
   "metadata": {},
   "outputs": [],
   "source": [
    "mastodon_data = pd.read_feather(\n",
    "    \"../1_data_collection/data/8_mastodon_final_data.feather\"\n",
    ")"
   ]
  },
  {
   "cell_type": "code",
   "execution_count": null,
   "metadata": {},
   "outputs": [],
   "source": [
    "mastodon_data[\"text_combine\"] = mastodon_data[\"text_combine\"].apply(\n",
    "    lambda x: html.unescape(x)\n",
    ")\n",
    "\n",
    "\n",
    "mastodon_data[\"text_combine\"] = mastodon_data[\"text_combine\"].apply(\n",
    "    lambda x: re.sub(\"chatgpt\", \"\", x, flags=re.IGNORECASE)\n",
    ")\n",
    "\n",
    "\n",
    "mastodon_data[\"text_combine\"] = mastodon_data[\"text_combine\"].str.replace(\"#\", \"\")\n",
    "mastodon_data[\"text_combine\"] = mastodon_data[\"text_combine\"].str.replace(\n",
    "    \"@twitter.com\", \"\"\n",
    ")"
   ]
  },
  {
   "cell_type": "code",
   "execution_count": null,
   "metadata": {},
   "outputs": [],
   "source": [
    "docs = mastodon_data[\"text_combine\"]"
   ]
  },
  {
   "cell_type": "code",
   "execution_count": null,
   "metadata": {},
   "outputs": [],
   "source": [
    "docs.head(15)"
   ]
  },
  {
   "cell_type": "markdown",
   "metadata": {},
   "source": [
    "# Model train"
   ]
  },
  {
   "cell_type": "markdown",
   "metadata": {},
   "source": [
    "First model fit"
   ]
  },
  {
   "cell_type": "code",
   "execution_count": null,
   "metadata": {},
   "outputs": [],
   "source": [
    "sentence_model = SentenceTransformer(\"all-MiniLM-L6-v2\")\n",
    "umap_model = UMAP(\n",
    "    n_neighbors=15, n_components=5, min_dist=0.0, metric=\"cosine\", random_state=42\n",
    ")\n",
    "\n",
    "# embedding_model=\"all-MiniLM-L6-v2\"\n",
    "vectorizer_model = CountVectorizer(\n",
    "    ngram_range=(1, 3), stop_words=\"english\", max_features=10_000\n",
    ")\n",
    "\n",
    "topic_model = BERTopic(\n",
    "    umap_model=umap_model,\n",
    "    embedding_model=sentence_model,\n",
    "    vectorizer_model=vectorizer_model,\n",
    "    verbose=True,\n",
    "    min_topic_size=75,\n",
    "    nr_topics=\"auto\",\n",
    ")\n",
    "topics, probs = topic_model.fit_transform(docs)"
   ]
  },
  {
   "cell_type": "code",
   "execution_count": null,
   "metadata": {},
   "outputs": [],
   "source": [
    "# check the topics information\n",
    "topic_model.get_topic_info()"
   ]
  },
  {
   "cell_type": "markdown",
   "metadata": {},
   "source": [
    "## Analyze first fit"
   ]
  },
  {
   "cell_type": "markdown",
   "metadata": {},
   "source": [
    "Inter-topic distance map"
   ]
  },
  {
   "cell_type": "code",
   "execution_count": null,
   "metadata": {},
   "outputs": [],
   "source": [
    "display(topic_model.get_topic_info())\n",
    "hierarchical_topics = topic_model.hierarchical_topics(docs)\n",
    "topic_tree = topic_model.get_topic_tree(hierarchical_topics)\n",
    "print(topic_tree)\n",
    "fig = topic_model.visualize_topics()\n",
    "display(fig)\n",
    "display(topic_model.visualize_heatmap())"
   ]
  },
  {
   "cell_type": "code",
   "execution_count": null,
   "metadata": {},
   "outputs": [],
   "source": [
    "representative_docs = topic_model.get_representative_docs(topic=27)\n",
    "display(representative_docs)"
   ]
  },
  {
   "cell_type": "markdown",
   "metadata": {},
   "source": [
    "# Merge topics"
   ]
  },
  {
   "cell_type": "markdown",
   "metadata": {},
   "source": [
    "1st merge"
   ]
  },
  {
   "cell_type": "code",
   "execution_count": null,
   "metadata": {},
   "outputs": [],
   "source": [
    "representative_docs = topic_model.get_representative_docs(topic=22)\n",
    "display(representative_docs)"
   ]
  },
  {
   "cell_type": "code",
   "execution_count": null,
   "metadata": {},
   "outputs": [],
   "source": [
    "topics_to_merge = [\n",
    "    [\n",
    "        2,\n",
    "        39,\n",
    "        34,\n",
    "    ]\n",
    "]\n",
    "\n",
    "# chatgpt_ai and code write\n",
    "# google_bard and google search\n",
    "topic_model.merge_topics(docs, topics_to_merge)"
   ]
  },
  {
   "cell_type": "code",
   "execution_count": null,
   "metadata": {},
   "outputs": [],
   "source": [
    "display(topic_model.get_topic_info())\n",
    "hierarchical_topics = topic_model.hierarchical_topics(docs)\n",
    "topic_tree = topic_model.get_topic_tree(hierarchical_topics)\n",
    "\n",
    "print(topic_tree)\n",
    "\n",
    "fig = topic_model.visualize_topics()\n",
    "\n",
    "display(fig)\n",
    "display(topic_model.visualize_heatmap())"
   ]
  },
  {
   "cell_type": "markdown",
   "metadata": {},
   "source": [
    "2nd Merge"
   ]
  },
  {
   "cell_type": "code",
   "execution_count": null,
   "metadata": {},
   "outputs": [],
   "source": [
    "representative_docs = topic_model.get_representative_docs(topic=17)\n",
    "display(representative_docs)"
   ]
  },
  {
   "cell_type": "code",
   "execution_count": null,
   "metadata": {},
   "outputs": [],
   "source": [
    "# Calculate the topic distributions on a token-level\n",
    "topic_distr, topic_token_distr = topic_model.approximate_distribution(\n",
    "    docs, calculate_tokens=True\n",
    ")\n",
    "\n",
    "# Visualize the token-level distributions\n",
    "df = topic_model.visualize_approximate_distribution(docs[1], topic_token_distr[1])\n",
    "df"
   ]
  },
  {
   "cell_type": "code",
   "execution_count": null,
   "metadata": {},
   "outputs": [],
   "source": [
    "topics_to_merge = [\n",
    "    [4, 19, 1],\n",
    "    [\n",
    "        2,\n",
    "        25,\n",
    "        18,\n",
    "    ],\n",
    "    [3, 11],\n",
    "    [\n",
    "        13,\n",
    "        26,\n",
    "        31,\n",
    "        32,\n",
    "    ],\n",
    "    [27, 35],\n",
    "    [10, 34],\n",
    "    [22, 36, 15, 12, 21, 5, 8, 17, 29, 33, 14, 28, 9, 23],\n",
    "    [\n",
    "        30,\n",
    "        7,\n",
    "    ],\n",
    "    [6, 24],\n",
    "    [0, 37],\n",
    "]\n",
    "\n",
    "topic_model.merge_topics(mastodon_data[\"text_combine\"], topics_to_merge)"
   ]
  },
  {
   "cell_type": "code",
   "execution_count": null,
   "metadata": {},
   "outputs": [],
   "source": [
    "display(topic_model.get_topic_info())\n",
    "hierarchical_topics = topic_model.hierarchical_topics(docs)\n",
    "topic_tree = topic_model.get_topic_tree(hierarchical_topics)\n",
    "print(topic_tree)\n",
    "fig = topic_model.visualize_topics()\n",
    "display(fig)\n",
    "display(topic_model.visualize_heatmap())\n",
    "terms = topic_model.visualize_barchart(top_n_topics=35, n_words=10, height=350)\n",
    "display(terms)"
   ]
  },
  {
   "cell_type": "code",
   "execution_count": null,
   "metadata": {},
   "outputs": [],
   "source": [
    "representative_docs = topic_model.get_representative_docs(topic=13)\n",
    "display(representative_docs)"
   ]
  },
  {
   "cell_type": "code",
   "execution_count": null,
   "metadata": {},
   "outputs": [],
   "source": [
    "# Calculate the topic distributions on a token-level\n",
    "topic_distr, topic_token_distr = topic_model.approximate_distribution(\n",
    "    docs, calculate_tokens=True\n",
    ")\n",
    "\n",
    "# Visualize the token-level distributions\n",
    "df = topic_model.visualize_approximate_distribution(docs[13], topic_token_distr[1])\n",
    "df"
   ]
  },
  {
   "cell_type": "markdown",
   "metadata": {},
   "source": [
    "# Reduce outliers"
   ]
  },
  {
   "cell_type": "code",
   "execution_count": null,
   "metadata": {},
   "outputs": [],
   "source": [
    "topics = topic_model.topics_\n",
    "new_topics = topic_model.reduce_outliers(docs, topics, strategy=\"c-tf-idf\")\n",
    "topic_model.update_topics(docs, new_topics)\n",
    "documents = pd.DataFrame({\"Documents\": docs, \"Topic\": new_topics})\n",
    "topic_model._update_topic_size(documents)"
   ]
  },
  {
   "cell_type": "code",
   "execution_count": null,
   "metadata": {},
   "outputs": [],
   "source": [
    "# check the topics information\n",
    "topic_model.get_topic_info()"
   ]
  },
  {
   "cell_type": "markdown",
   "metadata": {},
   "source": [
    "# Final update to topics with vectorizer"
   ]
  },
  {
   "cell_type": "code",
   "execution_count": null,
   "metadata": {},
   "outputs": [],
   "source": [
    "topic_model.update_topics(docs, vectorizer_model=vectorizer_model)"
   ]
  },
  {
   "cell_type": "code",
   "execution_count": null,
   "metadata": {},
   "outputs": [],
   "source": [
    "# check the topics information\n",
    "topic_model.get_topic_info()"
   ]
  },
  {
   "cell_type": "markdown",
   "metadata": {},
   "source": [
    "# Visualize final results"
   ]
  },
  {
   "cell_type": "code",
   "execution_count": null,
   "metadata": {},
   "outputs": [],
   "source": [
    "hierarchical_topics = topic_model.hierarchical_topics(docs)\n",
    "topic_tree = topic_model.get_topic_tree(hierarchical_topics)\n",
    "print(topic_tree)\n",
    "fig = topic_model.visualize_topics()\n",
    "display(fig)\n",
    "terms = topic_model.visualize_barchart(top_n_topics=17, n_words=10, height=300)\n",
    "display(terms)\n",
    "topic_model.visualize_hierarchy(hierarchical_topics=hierarchical_topics)"
   ]
  },
  {
   "cell_type": "markdown",
   "metadata": {},
   "source": [
    "## change topic names"
   ]
  },
  {
   "cell_type": "code",
   "execution_count": null,
   "metadata": {},
   "outputs": [],
   "source": [
    "topic_model.set_topic_labels(\n",
    "    {\n",
    "        0: \"AI & Big Tech\",\n",
    "        1: \"Ask ChatGPT to Generate Text\",\n",
    "        2: \"GPT Language Models\",\n",
    "        3: \"Coding with ChatGPT\",\n",
    "        4: \"Twitter & Mastodon\",\n",
    "        5: \"AI-Related Media Content\",\n",
    "        6: \"Alternative Access to ChatGPT\",\n",
    "        7: \"ChatGPT Answers' Quality\",\n",
    "        8: \"AI & Law & Trial\",\n",
    "        9: \"Political Topics\",\n",
    "        10: \"Data Privacy Issues\",\n",
    "        11: \"Paid GPT Service\",\n",
    "    }\n",
    ")"
   ]
  },
  {
   "cell_type": "code",
   "execution_count": null,
   "metadata": {},
   "outputs": [],
   "source": [
    "fig = topic_model.visualize_topics(custom_labels=True)\n",
    "display(fig)\n",
    "terms = topic_model.visualize_barchart(\n",
    "    top_n_topics=17, n_words=10, height=280, width=290, custom_labels=True\n",
    ")\n",
    "display(terms)\n",
    "topic_model.visualize_hierarchy(\n",
    "    hierarchical_topics=hierarchical_topics, custom_labels=True\n",
    ")\n",
    "topic_model.visualize_heatmap(custom_labels=True, width=800, height=650)"
   ]
  },
  {
   "cell_type": "code",
   "execution_count": null,
   "metadata": {},
   "outputs": [],
   "source": [
    "from pickle import TRUE\n",
    "\n",
    "\n",
    "topic_model.visualize_documents(docs, custom_labels=TRUE)"
   ]
  },
  {
   "cell_type": "code",
   "execution_count": null,
   "metadata": {},
   "outputs": [],
   "source": [
    "for topic in range(12):\n",
    "    topic_info = topic_model.get_topic(topic)\n",
    "    representative_docs = df[df.topic == topic][:12][\"document\"].tolist()\n",
    "\n",
    "    print(\"Topic: \", topic)\n",
    "    print(\"Topic Information: \")\n",
    "    print(topic_info)\n",
    "    print(\"Representative Documents: \")\n",
    "    print(representative_docs)\n",
    "    print(\"\\n\")"
   ]
  },
  {
   "cell_type": "code",
   "execution_count": null,
   "metadata": {},
   "outputs": [],
   "source": [
    "# save inter distance map result as html\n",
    "\n",
    "fig.write_html(\"./data/12_topic_inter_map.html\")"
   ]
  },
  {
   "cell_type": "code",
   "execution_count": null,
   "metadata": {},
   "outputs": [],
   "source": [
    "# Reduce dimensionality of embeddings, this step is optional but much faster to perform iteratively:\n",
    "reduced_embeddings = UMAP(\n",
    "    n_neighbors=50, n_components=3, min_dist=2.0, metric=\"cosine\"\n",
    ").fit_transform(embeddings)\n",
    "topic_model.visualize_hierarchical_documents(\n",
    "    docs, hierarchical_topics, reduced_embeddings=reduced_embeddings, custom_labels=True\n",
    ")"
   ]
  },
  {
   "cell_type": "markdown",
   "metadata": {},
   "source": [
    "# Save model and results"
   ]
  },
  {
   "cell_type": "code",
   "execution_count": null,
   "metadata": {},
   "outputs": [],
   "source": [
    "topic_model.get_topic_info()"
   ]
  },
  {
   "cell_type": "code",
   "execution_count": null,
   "metadata": {},
   "outputs": [],
   "source": [
    "# save topic information\n",
    "topic_info = topic_model.get_topic_info()\n",
    "topic_info.to_csv(\"./data/topic_info.csv\")\n",
    "\n",
    "# save topic infor with topic id\n",
    "topic_results = pd.DataFrame(\n",
    "    {\"id\": mastodon_data[\"id\"], \"topic_id\": topic_model.topics_}\n",
    ")\n",
    "topic_results.to_csv(\"./data/topic_results.csv\")"
   ]
  }
 ],
 "metadata": {
  "kernelspec": {
   "display_name": "thesis",
   "language": "python",
   "name": "python3"
  },
  "language_info": {
   "codemirror_mode": {
    "name": "ipython",
    "version": 3
   },
   "file_extension": ".py",
   "mimetype": "text/x-python",
   "name": "python",
   "nbconvert_exporter": "python",
   "pygments_lexer": "ipython3",
   "version": "3.11.4"
  }
 },
 "nbformat": 4,
 "nbformat_minor": 2
}
